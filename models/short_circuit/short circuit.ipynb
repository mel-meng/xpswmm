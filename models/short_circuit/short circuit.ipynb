{
 "cells": [
  {
   "cell_type": "markdown",
   "metadata": {},
   "source": [
    "# Short Circuit 1D/2D Model"
   ]
  },
  {
   "cell_type": "code",
   "execution_count": 1,
   "metadata": {},
   "outputs": [],
   "source": [
    "import pandas as pd\n",
    "# %matplotlib inline\n",
    "import matplotlib.pyplot as plt"
   ]
  },
  {
   "cell_type": "markdown",
   "metadata": {},
   "source": [
    "# Sample 2D Surface\n",
    "\n",
    "I created a 220ft wide cross section, and then extrude it using a 2% slope to form a surface.\n",
    "\n",
    "Below is the cross section."
   ]
  },
  {
   "cell_type": "code",
   "execution_count": 2,
   "metadata": {},
   "outputs": [],
   "source": [
    "f = r\"C:\\Users\\Mel.Meng\\Documents\\GitHub\\xpswmm\\models\\short_circuit\\data\\cross section.xlsx\"\n",
    "df = pd.read_excel(f)"
   ]
  },
  {
   "cell_type": "code",
   "execution_count": 3,
   "metadata": {},
   "outputs": [
    {
     "data": {
      "text/plain": [
       "<matplotlib.axes._subplots.AxesSubplot at 0x270c79c59e8>"
      ]
     },
     "execution_count": 3,
     "metadata": {},
     "output_type": "execute_result"
    },
    {
     "data": {
      "image/png": "[encoded data removed]",
      "text/plain": [
       "<Figure size 432x288 with 1 Axes>"
      ]
     },
     "metadata": {
      "needs_background": "light"
     },
     "output_type": "display_data"
    }
   ],
   "source": [
    "df.plot(x='sta', y='y')"
   ]
  },
  {
   "cell_type": "code",
   "execution_count": 4,
   "metadata": {},
   "outputs": [],
   "source": [
    "points = []\n",
    "for l in range(0, 500, 10):\n",
    "    for i, r in df.iterrows():\n",
    "        x = r['sta']\n",
    "        z = r['y'] + l*0.02\n",
    "        y = l\n",
    "        points.append([x, y, z])\n",
    "        \n",
    "surface = pd.DataFrame(points, columns=['x', 'y', 'z'])\n",
    "surface.to_csv(r\"C:\\Users\\Mel.Meng\\Documents\\GitHub\\xpswmm\\models\\short_circuit\\data\\surface.csv\", index=False)\n",
    "    "
   ]
  },
  {
   "cell_type": "code",
   "execution_count": 6,
   "metadata": {},
   "outputs": [
    {
     "data": {
      "application/vnd.jupyter.widget-view+json": {
       "model_id": "ec6ccc39d9274158b776477d16cdf6a9",
       "version_major": 2,
       "version_minor": 0
      },
      "text/plain": [
       "Canvas(toolbar=Toolbar(toolitems=[('Home', 'Reset original view', 'home', 'home'), ('Back', 'Back to previous …"
      ]
     },
     "metadata": {},
     "output_type": "display_data"
    },
    {
     "data": {
      "text/plain": [
       "<mpl_toolkits.mplot3d.art3d.Poly3DCollection at 0x270c9c0e080>"
      ]
     },
     "execution_count": 6,
     "metadata": {},
     "output_type": "execute_result"
    }
   ],
   "source": [
    "import matplotlib.pyplot as plt\n",
    "from mpl_toolkits.mplot3d import Axes3D\n",
    "import numpy as np\n",
    "%matplotlib widget\n",
    "\n",
    "fig = plt.figure()\n",
    "ax = fig.add_subplot(111, projection='3d')\n",
    "x = np.array(surface.x.values)\n",
    "y = np.array(surface.y.values)\n",
    "z = np.array(surface.z.values)\n",
    "ax.plot_trisurf(x, y, z, color='b')"
   ]
  },
  {
   "cell_type": "markdown",
   "metadata": {},
   "source": []
  },
  {
   "cell_type": "markdown",
   "metadata": {},
   "source": [
    "# Overlay a 1D channel\n",
    "\n",
    "Now let's see if we model the middel channel as a 1D channel, and overlay them together. What if we got the inverts wrong for the channel, and part of it is higher than the bank, and part of it is lower than the bank."
   ]
  },
  {
   "cell_type": "code",
   "execution_count": 12,
   "metadata": {},
   "outputs": [
    {
     "data": {
      "application/vnd.jupyter.widget-view+json": {
       "model_id": "00a74c31fc5b409a986d2b7510c768e5",
       "version_major": 2,
       "version_minor": 0
      },
      "text/plain": [
       "Canvas(toolbar=Toolbar(toolitems=[('Home', 'Reset original view', 'home', 'home'), ('Back', 'Back to previous …"
      ]
     },
     "metadata": {},
     "output_type": "display_data"
    },
    {
     "data": {
      "text/plain": [
       "<mpl_toolkits.mplot3d.art3d.Poly3DCollection at 0x270cc3074a8>"
      ]
     },
     "execution_count": 12,
     "metadata": {},
     "output_type": "execute_result"
    }
   ],
   "source": [
    "points = []\n",
    "for l in range(0, 500, 10):\n",
    "    for i, r in df.iterrows():\n",
    "        x = r['sta']\n",
    "        if x < 120 and x > 100:\n",
    "            z = 24/500.0*l-2\n",
    "        else:\n",
    "            z = r['y'] + l*0.02\n",
    "        if x == 120:\n",
    "            \n",
    "            z = 24/500.0*l-2 + r['y']\n",
    "            points.append([x, y, z])\n",
    "            z = r['y'] + l*0.02\n",
    "            points.append([x + 0.1, y, z])\n",
    "            continue\n",
    "        if x == 100:\n",
    "            z = r['y'] + l*0.02\n",
    "            points.append([x -0.1, y, z])\n",
    "            z = 24/500.0*l-2 + r['y']\n",
    "            points.append([x, y, z])\n",
    "            continue\n",
    "        y = l\n",
    "        points.append([x, y, z])\n",
    "        \n",
    "surface = pd.DataFrame(points, columns=['x', 'y', 'z'])\n",
    "surface.to_csv(r\"C:\\Users\\Mel.Meng\\Documents\\GitHub\\xpswmm\\models\\short_circuit\\data\\surface_wrong.csv\", index=False)\n",
    "fig = plt.figure()\n",
    "ax = fig.add_subplot(111, projection='3d')\n",
    "x = np.array(surface.x.values)\n",
    "y = np.array(surface.y.values)\n",
    "z = np.array(surface.z.values)\n",
    "ax.plot_trisurf(x, y, z, color='b')"
   ]
  },
  {
   "cell_type": "code",
   "execution_count": null,
   "metadata": {},
   "outputs": [],
   "source": []
  }
 ],
 "metadata": {
  "kernelspec": {
   "display_name": "Python 3",
   "language": "python",
   "name": "python3"
  },
  "language_info": {
   "codemirror_mode": {
    "name": "ipython",
    "version": 3
   },
   "file_extension": ".py",
   "mimetype": "text/x-python",
   "name": "python",
   "nbconvert_exporter": "python",
   "pygments_lexer": "ipython3",
   "version": "3.7.3"
  }
 },
 "nbformat": 4,
 "nbformat_minor": 4
}
